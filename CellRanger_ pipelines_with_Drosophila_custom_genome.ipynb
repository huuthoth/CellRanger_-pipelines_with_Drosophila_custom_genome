{
 "cells": [
  {
   "cell_type": "markdown",
   "id": "ecc642a1-822a-4226-8534-7b252e6edd31",
   "metadata": {},
   "source": [
    "# Generate a Drosophila reference genome with optional addition of transgenes"
   ]
  },
  {
   "cell_type": "markdown",
   "id": "fa4fb624-b415-42ff-999d-73411e446e0b",
   "metadata": {},
   "source": [
    "#### Download and save the transcriptome gene transfer format (GTF) file from the Ensembl database. This will be downloaded as a zipped file (with extension .gz)"
   ]
  },
  {
   "cell_type": "code",
   "execution_count": null,
   "id": "bc2d65db-d86e-43b1-b9df-c2a5ed25cf6a",
   "metadata": {},
   "outputs": [],
   "source": [
    "~ users$ curl -O http://ftp.ensemblgenomes.org/pub/metazoa/release-61/gtf/drosophila_melanogaster/Drosophila_melanogaster.BDGP6.54.61.gtf.gz"
   ]
  },
  {
   "cell_type": "markdown",
   "id": "609c91d2-3530-409f-9751-59220bfb961f",
   "metadata": {},
   "source": [
    "#### Download and save the genomic FASTA file from the Ensembl database. This will also be downloaded as a zipped file (with extension .gz)."
   ]
  },
  {
   "cell_type": "code",
   "execution_count": null,
   "id": "a8234deb-020e-4b90-8840-74b8ec39c28d",
   "metadata": {},
   "outputs": [],
   "source": [
    "~ users$ curl -O http://ftp.ensemblgenomes.org/pub/metazoa/release-61/fasta/drosophila_melanogaster/dna/Drosophila_melanogaster.BDGP6.54.dna.toplevel.fa.gz"
   ]
  },
  {
   "cell_type": "markdown",
   "id": "f315588b-aa15-4c1c-958b-0a9b9cfed8f9",
   "metadata": {},
   "source": [
    "#### Unzip the reference GTF and FASTA files downloaded in steps 1 and 2.\n"
   ]
  },
  {
   "cell_type": "code",
   "execution_count": null,
   "id": "60fb5313-1e68-4de7-9c14-e33c799bd8c5",
   "metadata": {},
   "outputs": [],
   "source": [
    "~ users$ gunzip Drosophila_melanogaster.BDGP6.54.dna.toplevel.fa.gz\n",
    "~ users$ gunzip Drosophila_melanogaster.BDGP6.54.61.gtf.gz"
   ]
  },
  {
   "cell_type": "markdown",
   "id": "9df6e22b-a047-4dbf-bf72-9f7ec3b6f671",
   "metadata": {},
   "source": [
    "## Generate Drosophila custome FASTA and gtf files "
   ]
  },
  {
   "cell_type": "markdown",
   "id": "ef402876-058f-4c5a-bec8-55c7583c93ca",
   "metadata": {},
   "source": [
    "#### If your sample contains transgenes/reporters whose expression need to be tracked, the sequences of those reporters need to be added as additional “contigs” or “chromosomes” to the genomic FASTA. In addition, for quantitation purposes, a GTF entry must be added for each transgene to define those regions as belonging to the transgene. we have used GFP and RFP reporters. Note that most of the available GFP or RFP transgenes have been inserted upstream of a SV40 polyA cassette, therefore the 3’UTR sequence of most GFP and RFP transgenes will be common "
   ]
  },
  {
   "cell_type": "markdown",
   "id": "f5bb1b2f-bef6-4c9e-b90e-eb8a6d4fdc83",
   "metadata": {},
   "source": [
    "#### generate FASTA file for RFP-GFP"
   ]
  },
  {
   "cell_type": "markdown",
   "id": "70aa2ce0-8867-4c6e-b058-a65f29602b4e",
   "metadata": {},
   "source": [
    ">RFP_GFP\n",
    "TAATCCGCGGTAGATCATAATCAGCCATACCACATTTGTAGAGGTTTTACTTGCTTTAAAAAACCTCCCACACCTCCCCCTGAACCTGAAACATAAAATGAATGCAATTGTTGTTGTTAACTTGTTTATTGCAGCTTATAATGGTTACAAATAAAGCAATAGCATCACAAATTTCACAAATAAAGCATTTTTTTCACTGCATTCTAGTTGTGGTTTGTCCAAACTCATCAATGTATCTTAAGGCGTAAATTGTAAGCGTTAATACTAGTTGGCCACGTAATAAGTGTGCGTTGAATTTATTCGCAAAAACATTGCATATTTTCGGCAAAGTAAAATTTTGTTGCATACCTTATCAAAAAATAAGTGCTGCATACTTTTTAGAGAAACCAAATAATTTTTTATTGCATACCCGTTTTTAATAAAATACATTGCATACCCTCTTTTAATAAAAAATATTGCATACTTTGACGAAACAAATTTTCGTTGCATACCCAATAAAAGATTATTATATTGCATACCCGTTTTT"
   ]
  },
  {
   "cell_type": "markdown",
   "id": "49718918-e68d-484d-a928-69757f9079c1",
   "metadata": {},
   "source": [
    "~ users$ cat RFP_GFP.fa | grep -v \"^>\" | tr -d \"\\n\" | wc -c"
   ]
  },
  {
   "cell_type": "markdown",
   "id": "fc4bb782-6bb7-42a6-aeb4-40e2931002c8",
   "metadata": {},
   "source": [
    "#### generate gtf file for RFP-GFP"
   ]
  },
  {
   "cell_type": "code",
   "execution_count": null,
   "id": "bc6b9d2b-987d-4e3e-a584-3f59e1c999a2",
   "metadata": {},
   "outputs": [],
   "source": [
    "~ users$ echo -e 'RFP_GFP\\tunknown\\texon\\t1\\t526\\t.\\t+\\t.\\tgene_id \"RFP_GFP\"; transcript_id \"RFP_GFP\"; gene_name \"RFP_GFP\"; gene_biotype \"protein_coding\";' > RFP_GFP.gtf\n"
   ]
  },
  {
   "cell_type": "markdown",
   "id": "e4a2c8cd-f754-4d39-854b-0008787ef2cb",
   "metadata": {},
   "source": [
    "### Combine transgene FASTA to the reference FASTA"
   ]
  },
  {
   "cell_type": "markdown",
   "id": "d7e0e037-d065-4f99-abcf-84bda5b31053",
   "metadata": {},
   "source": [
    "#### first, make a copy and rename it, so that the original is unchanged."
   ]
  },
  {
   "cell_type": "code",
   "execution_count": null,
   "id": "6802a2c9-89f1-429b-84db-889ac026bf3c",
   "metadata": {},
   "outputs": [],
   "source": [
    "cp Drosophila_melanogaster.BDGP6.54.dna.toplevel.fa dmel_GFP.fasta"
   ]
  },
  {
   "cell_type": "markdown",
   "id": "01329fd6-91f5-4a49-bd3c-92cbe262c178",
   "metadata": {},
   "source": [
    "#### append the GFP.fa to the end of dmel-all-aligned-r6.64.fasta file (Note: Do not use \">\" which overwrites the original file)"
   ]
  },
  {
   "cell_type": "code",
   "execution_count": null,
   "id": "e8ce15a0-f16e-4cd8-9c6b-e2a17fd46ecb",
   "metadata": {},
   "outputs": [],
   "source": [
    "~ users$ cat GFP.fa >> dmel_GFP.fasta"
   ]
  },
  {
   "cell_type": "markdown",
   "id": "48c9941e-4941-4243-bd18-a36b499e2919",
   "metadata": {},
   "source": [
    "#### To confirm that the GFP entry was added to the FASTA file, use the grep \">\" command to search for lines with the > character:"
   ]
  },
  {
   "cell_type": "code",
   "execution_count": null,
   "id": "e2672c6e-dd1f-48e9-a415-dbfe15283479",
   "metadata": {},
   "outputs": [],
   "source": [
    "~ users$ grep \">\" dmel_GFP.fasta"
   ]
  },
  {
   "cell_type": "markdown",
   "id": "c5c3996b-34d2-4e1e-8a5a-f74ff386ab52",
   "metadata": {},
   "source": [
    "### Combine transgene GTF to the reference GTF "
   ]
  },
  {
   "cell_type": "markdown",
   "id": "61caff4a-f0f5-48a6-b11c-3722f8ce242a",
   "metadata": {},
   "source": [
    "#### first, make a copy and rename it, so that the original is unchanged."
   ]
  },
  {
   "cell_type": "code",
   "execution_count": null,
   "id": "f5cdd1c8-7591-4bd1-a43b-b3060d3bf76d",
   "metadata": {},
   "outputs": [],
   "source": [
    "~ users$ cp Drosophila_melanogaster.BDGP6.54.61.gtf dmel_GFP.gtf\n",
    "\n",
    "~ users$ cat RFP_GFP.gtf >> dmel_GFP.gtf"
   ]
  },
  {
   "cell_type": "markdown",
   "id": "39d5c875-a2eb-49d0-b6bd-bac5afec6a88",
   "metadata": {},
   "source": [
    "#### Check the gtf file with the following command:"
   ]
  },
  {
   "cell_type": "code",
   "execution_count": null,
   "id": "6d47694c-0163-4572-bcd4-07003e50d297",
   "metadata": {},
   "outputs": [],
   "source": [
    "~ users$ tail dmel_GFP.gtf"
   ]
  },
  {
   "cell_type": "markdown",
   "id": "0fa51b06-04d6-49d7-8f5f-84741edc6e90",
   "metadata": {},
   "source": [
    "#### Use cellranger mkref to match combined transgene GTF and combined FASTA and generate a genome index."
   ]
  },
  {
   "cell_type": "code",
   "execution_count": null,
   "id": "4762e38a-9119-4650-917b-e54676e818b5",
   "metadata": {},
   "outputs": [],
   "source": [
    "~ users$ module load cellranger"
   ]
  },
  {
   "cell_type": "markdown",
   "id": "8c6448e4-1af3-400e-9b6d-6c6b25f972c2",
   "metadata": {},
   "source": [
    "#### Now use the dmel_GFP.gtf and dmel_GFP.fasta files as inputs to the cellranger mkref pipeline"
   ]
  },
  {
   "cell_type": "markdown",
   "id": "ca1d9d5d-f9e6-4151-a712-3d77c5213085",
   "metadata": {},
   "source": [
    "~ users$ cellranger mkref --genome=dm6_with_transgenes --fasta=dmel_GFP.fasta --genes=dmel_GFP.gtf --nthreads 16 --memgb 16"
   ]
  },
  {
   "cell_type": "markdown",
   "id": "4c9bbb82-0925-4d1e-a8e3-747ddc0123bc",
   "metadata": {},
   "source": [
    "## Demultiplex 10X run data from Illumina sequencers"
   ]
  },
  {
   "cell_type": "code",
   "execution_count": null,
   "id": "25046442-4c15-4802-9d11-d30149361df0",
   "metadata": {},
   "outputs": [],
   "source": [
    "##### create csv sheet for various samples\n",
    "~ users$ cat samplesheet_example.csv\n",
    "Lane, Sample, Index\n",
    "*,RP2_GFP, SI-GA-B4\n",
    "*,isoW, SI-GA-A1"
   ]
  },
  {
   "cell_type": "markdown",
   "id": "b8c624c0-ef1f-4caf-bb7c-87e189b040cf",
   "metadata": {},
   "source": [
    "## Use the cellranger mkfastq function to demultiplex the samples."
   ]
  },
  {
   "cell_type": "code",
   "execution_count": null,
   "id": "eb72584e-0aa9-45a9-9f11-959f1b93d7b6",
   "metadata": {},
   "outputs": [],
   "source": [
    "~ users$ cellranger mkfastq --localcores=16 --localmem=16 --csv=samplesheet_example.csv --run=190605_D00762_0450_AH22GWBCX3 --id=demultiplexed_fastqs --qc/usr/local/apps/cellranger/4.0.0/bin"
   ]
  },
  {
   "cell_type": "markdown",
   "id": "4eb4aa34-7bbb-451f-a59a-e37b9a01be83",
   "metadata": {},
   "source": [
    "###### In this example “190605_D00762_0450_AH22GWBCX3” is the name of the run folder automatically generated by the Illumina sequencer that held our two samples. It contains all the raw BCL files from a single run. It also has other files, some of which are used by Cell Ranger to process the data. If samples have been repeatedly sequenced over multiple flow cells, the cellranger mkfastq pipeline should be repeated for each run providing a separate “id” destination folder for each."
   ]
  },
  {
   "cell_type": "markdown",
   "id": "850ae72d-63d2-474a-bd31-a31066ba411c",
   "metadata": {},
   "source": [
    "### Align data to the reference genome and generate read count matrices"
   ]
  },
  {
   "cell_type": "markdown",
   "id": "356c6909-371f-4c93-9d2e-33f69c426ee4",
   "metadata": {},
   "source": [
    "###### The cellranger count function first aligns the single 3’ polyA-adjacent read to the index reference genome using the STAR aligner producing an indexed BAM file. The BAM file contains the chromosome number and the coordinates for each read. Additional read metadata derived from the other FASTQ files (including the cell barcode, the UMI, and any overlapping exon gene definition) is attached to the BAM entry for the read at this step"
   ]
  },
  {
   "cell_type": "markdown",
   "id": "af8f9710-835a-4f50-9e41-e759d79c9386",
   "metadata": {},
   "source": [
    "##### run cellranger count for sample “RP2_GFP” with genome index “dm6_with_transgenes” into folder “RP2_GFP”"
   ]
  },
  {
   "cell_type": "code",
   "execution_count": null,
   "id": "977f4a16-a506-4e03-81bf-6408217a036a",
   "metadata": {},
   "outputs": [],
   "source": [
    "~ users$ cellranger count --id=RP2_GFP --sample=RP2_GFP --transcriptome=dm6_with_transgenes --fastqs=demultiplexed_fastqs --localcores=16 --localmem=16"
   ]
  },
  {
   "cell_type": "code",
   "execution_count": null,
   "id": "2156ba3a-fdf5-4ad2-9bab-41268cc64d19",
   "metadata": {},
   "outputs": [],
   "source": []
  }
 ],
 "metadata": {
  "kernelspec": {
   "display_name": "Python [conda env:anaconda3] *",
   "language": "python",
   "name": "conda-env-anaconda3-py"
  },
  "language_info": {
   "codemirror_mode": {
    "name": "ipython",
    "version": 3
   },
   "file_extension": ".py",
   "mimetype": "text/x-python",
   "name": "python",
   "nbconvert_exporter": "python",
   "pygments_lexer": "ipython3",
   "version": "3.11.8"
  }
 },
 "nbformat": 4,
 "nbformat_minor": 5
}
